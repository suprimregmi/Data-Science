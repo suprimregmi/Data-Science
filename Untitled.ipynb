{
 "cells": [
  {
   "cell_type": "code",
   "execution_count": 1,
   "id": "e6be50bb-8ad1-431a-a98b-7cc1aea371ae",
   "metadata": {},
   "outputs": [],
   "source": [
    "import numpy as np\n",
    "import matplotlib.pyplot as plt"
   ]
  },
  {
   "cell_type": "code",
   "execution_count": 2,
   "id": "488d5317-38ce-450d-8088-13a0b18d49be",
   "metadata": {},
   "outputs": [],
   "source": [
    "N = 10000\n",
    "x = np.zeros(N)\n",
    "y = np.zeros(N)"
   ]
  },
  {
   "cell_type": "code",
   "execution_count": 3,
   "id": "68cf46e1-8a10-456c-82e7-878745791a34",
   "metadata": {},
   "outputs": [
    {
     "data": {
      "image/png": "[encoded data removed]",
      "text/plain": [
       "<Figure size 432x288 with 1 Axes>"
      ]
     },
     "metadata": {
      "needs_background": "light"
     },
     "output_type": "display_data"
    }
   ],
   "source": [
    "for i in range(1,N):\n",
    "    k = np.random.randint(1,4)\n",
    "    x[i]  =(1/2)*x[i] + k-1\n",
    "    y[i] = (1/2)*y[i] -1\n",
    "    if k ==2:\n",
    "        y[i] = y[i]+2\n",
    "plt.plot(x,y, 'k.',markersize=1)\n",
    "plt.title('Sierpinski Triangle')\n",
    "plt.axis('off')\n",
    "plt.show()"
   ]
  },
  {
   "cell_type": "code",
   "execution_count": 4,
   "id": "2cb69243-5343-4159-8062-a494638868f5",
   "metadata": {},
   "outputs": [
    {
     "data": {
      "text/plain": [
       "[<matplotlib.lines.Line2D at 0x1c662dc96a0>]"
      ]
     },
     "execution_count": 4,
     "metadata": {},
     "output_type": "execute_result"
    },
    {
     "data": {
      "image/png": "[encoded data removed]",
      "text/plain": [
       "<Figure size 432x288 with 1 Axes>"
      ]
     },
     "metadata": {
      "needs_background": "light"
     },
     "output_type": "display_data"
    }
   ],
   "source": [
    "\n",
    "plt.plot(x,y)"
   ]
  },
  {
   "cell_type": "code",
   "execution_count": 5,
   "id": "14554dbb-9b24-4913-a807-e62defa502d1",
   "metadata": {},
   "outputs": [],
   "source": [
    "# Excercise: create a pandas dataframe with three variables:\n",
    "# 1) integers from 0 to 10\n",
    "# 2) their square\n",
    "# 3) their log"
   ]
  },
  {
   "cell_type": "code",
   "execution_count": 6,
   "id": "7d02fabb-9141-4372-a65f-398d2057fbbc",
   "metadata": {},
   "outputs": [],
   "source": [
    "import pandas as pd"
   ]
  },
  {
   "cell_type": "code",
   "execution_count": 24,
   "id": "1f589c8d-1c1b-494f-a1ca-2bff57fbc525",
   "metadata": {},
   "outputs": [
    {
     "data": {
      "text/plain": [
       "array([ 0,  1,  2,  3,  4,  5,  6,  7,  8,  9, 10])"
      ]
     },
     "execution_count": 24,
     "metadata": {},
     "output_type": "execute_result"
    }
   ],
   "source": [
    "a = []\n",
    "for i in range(11):\n",
    "    a.append(i)\n",
    "a_df = pd.DataFrame(a)\n",
    "\n",
    "nums = np.array(range(11))\n",
    "nums"
   ]
  },
  {
   "cell_type": "code",
   "execution_count": 23,
   "id": "d7938bcb-93fd-4d68-a91f-e50eb2a5c367",
   "metadata": {},
   "outputs": [],
   "source": [
    "a_df_sq = a_df**2\n",
    "# a_df_sq"
   ]
  },
  {
   "cell_type": "code",
   "execution_count": 25,
   "id": "30f75865-37e7-4db6-a626-a0a6cc78877f",
   "metadata": {},
   "outputs": [
    {
     "name": "stderr",
     "output_type": "stream",
     "text": [
      "C:\\Users\\i32868\\AppData\\Local\\Temp\\ipykernel_13436\\1237738838.py:1: RuntimeWarning: divide by zero encountered in log\n",
      "  D = {'integers':nums, 'square':nums**2, 'log':np.log(nums)}\n"
     ]
    },
    {
     "data": {
      "text/plain": [
       "{'integers': array([ 0,  1,  2,  3,  4,  5,  6,  7,  8,  9, 10]),\n",
       " 'square': array([  0,   1,   4,   9,  16,  25,  36,  49,  64,  81, 100], dtype=int32),\n",
       " 'log': array([      -inf, 0.        , 0.69314718, 1.09861229, 1.38629436,\n",
       "        1.60943791, 1.79175947, 1.94591015, 2.07944154, 2.19722458,\n",
       "        2.30258509])}"
      ]
     },
     "execution_count": 25,
     "metadata": {},
     "output_type": "execute_result"
    }
   ],
   "source": [
    "D = {'integers':nums, 'square':nums**2, 'log':np.log(nums)}\n",
    "D"
   ]
  },
  {
   "cell_type": "code",
   "execution_count": null,
   "id": "a299bb22-c1e6-42d9-9617-91d581aa61e6",
   "metadata": {},
   "outputs": [],
   "source": []
  },
  {
   "cell_type": "code",
   "execution_count": 43,
   "id": "0e6b0ba9-5b24-409c-980a-1770a00bc5da",
   "metadata": {},
   "outputs": [
    {
     "name": "stdout",
     "output_type": "stream",
     "text": [
      "kale\n",
      "kalo\n",
      "seto\n",
      "seto\n"
     ]
    }
   ],
   "source": [
    "class Test:\n",
    "    def __init__(self, name,color):\n",
    "        self.name = name\n",
    "        self.color = color\n",
    "        \n",
    "    def infom(self):\n",
    "        print(self.name)\n",
    "        print(self.color)\n",
    "       \n",
    "        # print(\"Will auto print\")\n",
    "Dog1 = Test('kale', 'kalo')\n",
    "Dog2 = Test('seto', 'seto')\n",
    "\n",
    "Dog1.infom()\n",
    "Dog2.infom()"
   ]
  },
  {
   "cell_type": "code",
   "execution_count": 35,
   "id": "92be298b-bee0-4637-bfc8-7686959f033d",
   "metadata": {},
   "outputs": [],
   "source": [
    "numbers = [1, 2, 3, 4, 5, 6, 7, 8, 9, 10]"
   ]
  },
  {
   "cell_type": "code",
   "execution_count": 42,
   "id": "bd6a03b9-38fc-4d7e-8c48-9dedae5c9c70",
   "metadata": {},
   "outputs": [
    {
     "data": {
      "text/plain": [
       "[2, 5, 8]"
      ]
     },
     "execution_count": 42,
     "metadata": {},
     "output_type": "execute_result"
    }
   ],
   "source": [
    "numbers[1:10:3]"
   ]
  },
  {
   "cell_type": "code",
   "execution_count": 45,
   "id": "15a366fd-7a85-4203-b9c0-00302891d644",
   "metadata": {},
   "outputs": [
    {
     "name": "stdout",
     "output_type": "stream",
     "text": [
      "1\n",
      "2\n",
      "3\n",
      "4\n"
     ]
    }
   ],
   "source": [
    "for i in range(1,5):\n",
    "    print(i)"
   ]
  },
  {
   "cell_type": "code",
   "execution_count": 46,
   "id": "345d1bc9-a4ce-4d76-9733-39a1a164bb17",
   "metadata": {},
   "outputs": [],
   "source": [
    "my_list = [2, 3, 5, 7, 11]\n",
    "squared_list = [x**2 for x in my_list]    # list comprehension\n",
    "# output => [4 , 9 , 25 , 49 , 121]\n",
    "squared_dict = {x:x**2 for x in my_list}    # dict comprehension\n",
    "# output => {11: 121, 2: 4 , 3: 9 , 5: 25 , 7: 49}"
   ]
  },
  {
   "cell_type": "code",
   "execution_count": null,
   "id": "a469f2ac-ba1d-4fa0-81c6-19c2e5709281",
   "metadata": {},
   "outputs": [],
   "source": [
    "## generate fibonacci numbers upto n\n",
    "def fib(n):\n",
    "   p, q = 0, 1\n",
    "   while(p < n):\n",
    "       yield p\n",
    "       p, q = q, p + q\n",
    "x = fib(10)    # create generator object \n",
    " \n",
    "## iterating using __next__(), for Python2, use next()\n",
    "x.__next__()    # output => 0\n",
    "x.__next__()    # output => 1\n",
    "x.__next__()    # output => 1\n",
    "x.__next__()    # output => 2\n",
    "x.__next__()    # output => 3\n",
    "x.__next__()    # output => 5\n",
    "x.__next__()    # output => 8\n",
    "x.__next__()    # error\n",
    " \n",
    "## iterating using loop\n",
    "for i in fib(10):\n",
    "   print(i)    # output => 0 1 1 2 3 5 8\n",
    "\n",
    "29. What is PYTHONPATH in Python?"
   ]
  },
  {
   "cell_type": "code",
   "execution_count": 55,
   "id": "5ff9c347-6078-4b25-a357-a597bfa37355",
   "metadata": {},
   "outputs": [],
   "source": [
    "def fib(n):\n",
    "    p,q = 0,1\n",
    "    while(p<n):\n",
    "        yield p\n",
    "        p,q = q, p+q\n",
    "x = fib(10)"
   ]
  },
  {
   "cell_type": "code",
   "execution_count": 63,
   "id": "cc40f440-594e-4f28-88ad-a23cf674bdd8",
   "metadata": {},
   "outputs": [
    {
     "ename": "StopIteration",
     "evalue": "",
     "output_type": "error",
     "traceback": [
      "\u001b[1;31m---------------------------------------------------------------------------\u001b[0m",
      "\u001b[1;31mStopIteration\u001b[0m                             Traceback (most recent call last)",
      "Input \u001b[1;32mIn [63]\u001b[0m, in \u001b[0;36m<cell line: 1>\u001b[1;34m()\u001b[0m\n\u001b[1;32m----> 1\u001b[0m \u001b[43mx\u001b[49m\u001b[38;5;241;43m.\u001b[39;49m\u001b[38;5;21;43m__next__\u001b[39;49m\u001b[43m(\u001b[49m\u001b[43m)\u001b[49m\n",
      "\u001b[1;31mStopIteration\u001b[0m: "
     ]
    }
   ],
   "source": [
    "x.__next__() "
   ]
  },
  {
   "cell_type": "code",
   "execution_count": null,
   "id": "c724ba74-a552-43cc-8692-1376f7d4f1a6",
   "metadata": {},
   "outputs": [],
   "source": [
    "class ArrayList:\n",
    "   def __init__(self, number_list):\n",
    "       self.numbers = number_list\n",
    "   def __iter__(self):\n",
    "       self.pos = 0\n",
    "       return self\n",
    "   def __next__(self):\n",
    "       if(self.pos < len(self.numbers)):\n",
    "           self.pos += 1\n",
    "           return self.numbers[self.pos - 1]\n",
    "       else:\n",
    "           raise StopIteration\n",
    "array_obj = ArrayList([1, 2, 3])\n",
    "it = iter(array_obj)\n",
    "print(next(it)) #output: 2\n",
    "print(next(it)) #output: 3\n",
    "print(next(it))\n",
    "#Throws Exception\n",
    "#Traceback (most recent call last):\n",
    "#...\n",
    "#StopIteration\n",
    "\n",
    "35. Explain how to de"
   ]
  },
  {
   "cell_type": "markdown",
   "id": "fd15ab0d-bc07-4149-807d-81f2eab87744",
   "metadata": {},
   "source": [
    "### Functions"
   ]
  },
  {
   "cell_type": "code",
   "execution_count": 95,
   "id": "e8a9d50b-6be9-4ba1-8059-a56ae0e8187a",
   "metadata": {},
   "outputs": [
    {
     "data": {
      "text/plain": [
       "120"
      ]
     },
     "execution_count": 95,
     "metadata": {},
     "output_type": "execute_result"
    }
   ],
   "source": [
    "# Exercisee\n",
    "# FUnction that creates factorial of number\n",
    "\n",
    "def fact_calc(n):\n",
    "    val = 1\n",
    "    for i in range(1,n+1):\n",
    "        val  = val*i\n",
    "    return val\n",
    "fact_calc(5) "
   ]
  },
  {
   "cell_type": "code",
   "execution_count": 96,
   "id": "7ccc562f-e4e3-4cbf-a280-6b20f0523959",
   "metadata": {},
   "outputs": [
    {
     "name": "stdout",
     "output_type": "stream",
     "text": [
      "\n",
      " 265252859812191058636308480000000\n"
     ]
    }
   ],
   "source": [
    "print(\"\\n\", fact_calc(30))"
   ]
  },
  {
   "cell_type": "markdown",
   "id": "6ad0dc76-04bf-4510-9f4f-016e07cd0101",
   "metadata": {},
   "source": [
    "### Using Numpy"
   ]
  },
  {
   "cell_type": "code",
   "execution_count": 70,
   "id": "4b106571-468a-4a1e-9f38-ad2079240116",
   "metadata": {},
   "outputs": [],
   "source": [
    "import numpy as np\n",
    "def my_fact(val):\n",
    "    return np.prod(np.arange(1, 1+val))"
   ]
  },
  {
   "cell_type": "code",
   "execution_count": 71,
   "id": "68bc644f-0d4d-49d5-a5d1-de61ccfc49da",
   "metadata": {},
   "outputs": [
    {
     "data": {
      "text/plain": [
       "array([1, 2, 3, 4])"
      ]
     },
     "execution_count": 71,
     "metadata": {},
     "output_type": "execute_result"
    }
   ],
   "source": [
    "val = 4\n",
    "np.arange(1, val+1)"
   ]
  },
  {
   "cell_type": "code",
   "execution_count": 72,
   "id": "3dfd48c4-5c37-466d-83bc-5c93a5bdcca7",
   "metadata": {},
   "outputs": [
    {
     "data": {
      "text/plain": [
       "120"
      ]
     },
     "execution_count": 72,
     "metadata": {},
     "output_type": "execute_result"
    }
   ],
   "source": [
    "my_fact(5)"
   ]
  },
  {
   "cell_type": "code",
   "execution_count": 102,
   "id": "865ff6fd-b6ac-457e-a1f3-e34ba7b05ef6",
   "metadata": {},
   "outputs": [
    {
     "name": "stdout",
     "output_type": "stream",
     "text": [
      "Built in library to calc:\n",
      "   295232799039604140847618609643520000000 \n",
      "Using Np function:\n",
      "  0 \n",
      "Using range func:\n",
      " 295232799039604140847618609643520000000\n"
     ]
    }
   ],
   "source": [
    "import math\n",
    "\n",
    "k = 34\n",
    "print(\"Built in library to calc:\\n  \", math.factorial(k), \"\\nUsing Np function:\\n \", my_fact(k), \"\\nUsing range func:\\n\", fact_calc(k))"
   ]
  },
  {
   "cell_type": "code",
   "execution_count": 103,
   "id": "8167fc05-0dc9-4c51-bf17-30ba2314663a",
   "metadata": {},
   "outputs": [
    {
     "name": "stdout",
     "output_type": "stream",
     "text": [
      "Built in library to calc:\n",
      "   25852016738884976640000 \n",
      "Using Np function:\n",
      "  862453760 \n",
      "Using range func:\n",
      " 25852016738884976640000\n"
     ]
    }
   ],
   "source": [
    "import math\n",
    "\n",
    "k = 23\n",
    "print(\"Built in library to calc:\\n  \", math.factorial(k), \"\\nUsing Np function:\\n \", my_fact(k), \"\\nUsing range func:\\n\", fact_calc(k))"
   ]
  },
  {
   "cell_type": "markdown",
   "id": "27b3fb39-3f6d-4d3a-a9a7-7f97ce23ab94",
   "metadata": {},
   "source": [
    "\n",
    "Why np not working? Thats precision issue"
   ]
  },
  {
   "cell_type": "code",
   "execution_count": 104,
   "id": "c7719667-2733-4436-92d5-227e2bc67e7a",
   "metadata": {},
   "outputs": [],
   "source": [
    "# Exercise\n",
    "# WAF that flips a coin N times and reports avg"
   ]
  },
  {
   "cell_type": "code",
   "execution_count": 139,
   "id": "bff04e73-9712-4aab-8e0a-9bf9b2777807",
   "metadata": {},
   "outputs": [],
   "source": [
    "def coin_flip(N):\n",
    "    h = []\n",
    "    t = []\n",
    "    for i in range(1,N+1):\n",
    "        rand = np.random.randint(0,2)\n",
    "        if rand ==0:\n",
    "            t.append(rand)\n",
    "        else:\n",
    "            h.append(rand)\n",
    "    return len(h)/N,len(t)/N\n",
    "#h,t, [len(h)], [len(t)], len(h)/N,len(t)/N"
   ]
  },
  {
   "cell_type": "code",
   "execution_count": 140,
   "id": "a0be5056-ca7e-4b57-a108-3be50b3a286d",
   "metadata": {},
   "outputs": [
    {
     "data": {
      "text/plain": [
       "(0.49865, 0.50135)"
      ]
     },
     "execution_count": 140,
     "metadata": {},
     "output_type": "execute_result"
    }
   ],
   "source": [
    "coin_flip(20000)"
   ]
  },
  {
   "cell_type": "code",
   "execution_count": null,
   "id": "5da32f07-10d8-4e0d-b333-a61d6474ce25",
   "metadata": {},
   "outputs": [],
   "source": [
    "import numpy as np\n",
    "def coinflip(N):\n",
    "    pCoinFlips = np.mean(np.rabdom.randn(N)>0)"
   ]
  },
  {
   "cell_type": "markdown",
   "id": "f30e5579-05a1-46be-9d46-b06dbb77da0f",
   "metadata": {},
   "source": [
    "### Classes and OOP"
   ]
  },
  {
   "cell_type": "code",
   "execution_count": 142,
   "id": "839f6af7-d57c-4d33-bb38-3046bffd6c83",
   "metadata": {},
   "outputs": [],
   "source": [
    "class Experiment(object):\n",
    "    # constructor method\n",
    "    def __init__(self, eType, dataN, status = 'ongoing'):\n",
    "        self.expType = eType\n",
    "        self.dataCount = dataN\n",
    "        self.expStatus = status\n",
    "        \n",
    "        def increaseN(self, number):\n",
    "            self.dataCount += number\n",
    "            \n",
    "        def changeExpStatus(self, status):\n",
    "            self.expStatus = status\n",
    "    "
   ]
  },
  {
   "cell_type": "code",
   "execution_count": null,
   "id": "07af2444-7ee3-4cb3-86d5-e96d63519751",
   "metadata": {},
   "outputs": [],
   "source": []
  }
 ],
 "metadata": {
  "kernelspec": {
   "display_name": "Python 3 (ipykernel)",
   "language": "python",
   "name": "python3"
  },
  "language_info": {
   "codemirror_mode": {
    "name": "ipython",
    "version": 3
   },
   "file_extension": ".py",
   "mimetype": "text/x-python",
   "name": "python",
   "nbconvert_exporter": "python",
   "pygments_lexer": "ipython3",
   "version": "3.8.12"
  }
 },
 "nbformat": 4,
 "nbformat_minor": 5
}
